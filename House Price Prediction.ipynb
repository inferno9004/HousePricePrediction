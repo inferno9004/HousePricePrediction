{
 "cells": [
  {
   "cell_type": "markdown",
   "metadata": {},
   "source": [
    "# House Price Prediction"
   ]
  },
  {
   "cell_type": "code",
   "execution_count": 1,
   "metadata": {
    "collapsed": false
   },
   "outputs": [],
   "source": [
    "import IPython\n",
    "import numpy as np\n",
    "import scipy as sp\n",
    "import pandas as pd\n",
    "from pandas import Series,DataFrame\n",
    "import matplotlib.pyplot as plt\n",
    "import sklearn as skl\n",
    "import time\n",
    "from __future__ import division\n",
    "%matplotlib inline  "
   ]
  },
  {
   "cell_type": "markdown",
   "metadata": {},
   "source": [
    "---\n",
    "\n",
    "## Introduction\n",
    "\n",
    "You will be using the [Boston Housing Prices Data Set](http://archive.ics.uci.edu/ml/datasets/Housing).  Please read about the dataset carefully before continuing.  Use the following commands to load the dataset:\n"
   ]
  },
  {
   "cell_type": "code",
   "execution_count": 2,
   "metadata": {
    "collapsed": false
   },
   "outputs": [],
   "source": [
    "from sklearn.datasets import load_boston\n",
    "bdata = load_boston()"
   ]
  },
  {
   "cell_type": "markdown",
   "metadata": {},
   "source": [
    "The following commands will provide some basic information about the shape of the data:"
   ]
  },
  {
   "cell_type": "code",
   "execution_count": 3,
   "metadata": {
    "collapsed": false
   },
   "outputs": [
    {
     "name": "stdout",
     "output_type": "stream",
     "text": [
      "['data', 'feature_names', 'DESCR', 'target']\n",
      "['CRIM' 'ZN' 'INDUS' 'CHAS' 'NOX' 'RM' 'AGE' 'DIS' 'RAD' 'TAX' 'PTRATIO'\n",
      " 'B' 'LSTAT']\n",
      "(506, 13)\n",
      "(506,)\n"
     ]
    }
   ],
   "source": [
    "print bdata.keys()\n",
    "print bdata.feature_names\n",
    "print bdata.data.shape\n",
    "print bdata.target.shape\n",
    "# uncomment the following if you want to see a lengthy description of the dataset\n",
    "# print bdata.DESCR"
   ]
  },
  {
   "cell_type": "code",
   "execution_count": 4,
   "metadata": {
    "collapsed": false
   },
   "outputs": [
    {
     "data": {
      "text/html": [
       "<div>\n",
       "<table border=\"1\" class=\"dataframe\">\n",
       "  <thead>\n",
       "    <tr style=\"text-align: right;\">\n",
       "      <th></th>\n",
       "      <th>CRIM</th>\n",
       "      <th>ZN</th>\n",
       "      <th>INDUS</th>\n",
       "      <th>CHAS</th>\n",
       "      <th>NOX</th>\n",
       "      <th>RM</th>\n",
       "      <th>AGE</th>\n",
       "      <th>DIS</th>\n",
       "      <th>RAD</th>\n",
       "      <th>TAX</th>\n",
       "      <th>PTRATIO</th>\n",
       "      <th>B</th>\n",
       "      <th>LSTAT</th>\n",
       "    </tr>\n",
       "  </thead>\n",
       "  <tbody>\n",
       "    <tr>\n",
       "      <th>0</th>\n",
       "      <td>0.00632</td>\n",
       "      <td>18.0</td>\n",
       "      <td>2.31</td>\n",
       "      <td>0.0</td>\n",
       "      <td>0.538</td>\n",
       "      <td>6.575</td>\n",
       "      <td>65.2</td>\n",
       "      <td>4.0900</td>\n",
       "      <td>1.0</td>\n",
       "      <td>296.0</td>\n",
       "      <td>15.3</td>\n",
       "      <td>396.90</td>\n",
       "      <td>4.98</td>\n",
       "    </tr>\n",
       "    <tr>\n",
       "      <th>1</th>\n",
       "      <td>0.02731</td>\n",
       "      <td>0.0</td>\n",
       "      <td>7.07</td>\n",
       "      <td>0.0</td>\n",
       "      <td>0.469</td>\n",
       "      <td>6.421</td>\n",
       "      <td>78.9</td>\n",
       "      <td>4.9671</td>\n",
       "      <td>2.0</td>\n",
       "      <td>242.0</td>\n",
       "      <td>17.8</td>\n",
       "      <td>396.90</td>\n",
       "      <td>9.14</td>\n",
       "    </tr>\n",
       "    <tr>\n",
       "      <th>2</th>\n",
       "      <td>0.02729</td>\n",
       "      <td>0.0</td>\n",
       "      <td>7.07</td>\n",
       "      <td>0.0</td>\n",
       "      <td>0.469</td>\n",
       "      <td>7.185</td>\n",
       "      <td>61.1</td>\n",
       "      <td>4.9671</td>\n",
       "      <td>2.0</td>\n",
       "      <td>242.0</td>\n",
       "      <td>17.8</td>\n",
       "      <td>392.83</td>\n",
       "      <td>4.03</td>\n",
       "    </tr>\n",
       "    <tr>\n",
       "      <th>3</th>\n",
       "      <td>0.03237</td>\n",
       "      <td>0.0</td>\n",
       "      <td>2.18</td>\n",
       "      <td>0.0</td>\n",
       "      <td>0.458</td>\n",
       "      <td>6.998</td>\n",
       "      <td>45.8</td>\n",
       "      <td>6.0622</td>\n",
       "      <td>3.0</td>\n",
       "      <td>222.0</td>\n",
       "      <td>18.7</td>\n",
       "      <td>394.63</td>\n",
       "      <td>2.94</td>\n",
       "    </tr>\n",
       "    <tr>\n",
       "      <th>4</th>\n",
       "      <td>0.06905</td>\n",
       "      <td>0.0</td>\n",
       "      <td>2.18</td>\n",
       "      <td>0.0</td>\n",
       "      <td>0.458</td>\n",
       "      <td>7.147</td>\n",
       "      <td>54.2</td>\n",
       "      <td>6.0622</td>\n",
       "      <td>3.0</td>\n",
       "      <td>222.0</td>\n",
       "      <td>18.7</td>\n",
       "      <td>396.90</td>\n",
       "      <td>5.33</td>\n",
       "    </tr>\n",
       "  </tbody>\n",
       "</table>\n",
       "</div>"
      ],
      "text/plain": [
       "      CRIM    ZN  INDUS  CHAS    NOX     RM   AGE     DIS  RAD    TAX  \\\n",
       "0  0.00632  18.0   2.31   0.0  0.538  6.575  65.2  4.0900  1.0  296.0   \n",
       "1  0.02731   0.0   7.07   0.0  0.469  6.421  78.9  4.9671  2.0  242.0   \n",
       "2  0.02729   0.0   7.07   0.0  0.469  7.185  61.1  4.9671  2.0  242.0   \n",
       "3  0.03237   0.0   2.18   0.0  0.458  6.998  45.8  6.0622  3.0  222.0   \n",
       "4  0.06905   0.0   2.18   0.0  0.458  7.147  54.2  6.0622  3.0  222.0   \n",
       "\n",
       "   PTRATIO       B  LSTAT  \n",
       "0     15.3  396.90   4.98  \n",
       "1     17.8  396.90   9.14  \n",
       "2     17.8  392.83   4.03  \n",
       "3     18.7  394.63   2.94  \n",
       "4     18.7  396.90   5.33  "
      ]
     },
     "execution_count": 4,
     "metadata": {},
     "output_type": "execute_result"
    }
   ],
   "source": [
    "# reset data as pandas DataFrame\n",
    "boston_df = DataFrame(bdata.data)\n",
    "\n",
    "# label columns\n",
    "boston_df.columns = bdata.feature_names\n",
    "\n",
    "#show\n",
    "boston_df.head()"
   ]
  },
  {
   "cell_type": "code",
   "execution_count": 5,
   "metadata": {
    "collapsed": false
   },
   "outputs": [],
   "source": [
    "# Set price column for target\n",
    "boston_df['MEDV'] = bdata.target"
   ]
  },
  {
   "cell_type": "markdown",
   "metadata": {},
   "source": [
    "---\n",
    "\n",
    "## Part 1: Descriptive analysis\n",
    "\n",
    "Before beginning the \"real\" work, dig into the data a bit do see what you're dealing with.  If you're new to analyzing data in Python, please make sure to read the relevant readings linked to on Canvas before beginning (for instance, [this one](https://github.com/jrjohansson/scientific-python-lectures)).\n",
    "\n",
    "### 1.1: Histogram of housing prices\n",
    "\n",
    "Below you will find some very basic code to make a very basic histogram of median housing prices (the \"target\" variable) for your dataset.  Your first task is to make this graph look pretty by doing the following:\n",
    "\n",
    "1. Add appropriate labels to the x and y axes, make sure to include units\n",
    "2. Change the bin width on the histogram to be $1000\n",
    "3. Remove the axes on the top and right side of the plot window\n",
    "4. Change the color of the bars to be green, and remove the black borders from the bars\n"
   ]
  },
  {
   "cell_type": "code",
   "execution_count": 6,
   "metadata": {
    "collapsed": false
   },
   "outputs": [
    {
     "data": {
      "text/plain": [
       "<matplotlib.text.Text at 0x7f3e92ccc950>"
      ]
     },
     "execution_count": 6,
     "metadata": {},
     "output_type": "execute_result"
    },
    {
     "data": {
      "image/png": "[encoded data removed]",
      "text/plain": [
       "<matplotlib.figure.Figure at 0x7f3e951bb7d0>"
      ]
     },
     "metadata": {},
     "output_type": "display_data"
    }
   ],
   "source": [
    "fig = plt.figure()\n",
    "ax = fig.add_subplot(111)\n",
    "ax.spines[\"right\"].set_visible(False)\n",
    "ax.spines[\"top\"].set_visible(False)\n",
    "ax.xaxis.set_ticks_position('bottom')\n",
    "ax.yaxis.set_ticks_position('left')\n",
    "\n",
    "\n",
    "plt.hist(boston_df[\"MEDV\"],bins=50, color = \"green\", edgecolor = \"none\", alpha = 0.6)\n",
    "\n",
    "#label\n",
    "plt.xlabel('Price in $1000s')\n",
    "plt.ylabel('Number of houses')\n",
    "plt.title('Median Housing Price Histogram')"
   ]
  },
  {
   "cell_type": "markdown",
   "metadata": {},
   "source": [
    "### 1.2: Scatter plot of housing prices and crime\n",
    "\n",
    "Use matplotlib to create a scatter plot that shows the relationship between the median value of the home (y-axis) and the per-capita crime rate (x-axis).  Properly label your axes, and make sure that your graphic looks polished and professional.\n"
   ]
  },
  {
   "cell_type": "code",
   "execution_count": 7,
   "metadata": {
    "collapsed": false
   },
   "outputs": [
    {
     "data": {
      "text/plain": [
       "<matplotlib.text.Text at 0x7f3e92af0750>"
      ]
     },
     "execution_count": 7,
     "metadata": {},
     "output_type": "execute_result"
    },
    {
     "data": {
      "image/png": "[encoded data removed]",
      "text/plain": [
       "<matplotlib.figure.Figure at 0x7f3e925855d0>"
      ]
     },
     "metadata": {},
     "output_type": "display_data"
    }
   ],
   "source": [
    "fig = plt.figure()\n",
    "ax = fig.add_subplot(111)\n",
    "ax.spines[\"right\"].set_visible(False)\n",
    "ax.spines[\"top\"].set_visible(False)\n",
    "ax.xaxis.set_ticks_position('bottom')\n",
    "ax.yaxis.set_ticks_position('left')\n",
    "\n",
    "\n",
    "plt.scatter(boston_df[\"CRIM\"], boston_df[\"MEDV\"], alpha = 0.5)\n",
    "\n",
    "#label\n",
    "plt.xlabel('Per Capita Crime Rate')\n",
    "plt.ylabel('Median Value of House')\n",
    "plt.title('Median Value of House \\nvs \\nCrime Rate')"
   ]
  },
  {
   "cell_type": "markdown",
   "metadata": {},
   "source": [
    "### 1.3 Create your own (creative and effective) visualization\n",
    "\n",
    "Use another type of graph or chart to illustrate an interesting pattern in the data.  Be creative in your visualization, and make sure to produce a \"publication-quality\" graph.  Points will be given for useful and creative graphs; points will be deducted for confusing issues like unlabeled axes.  If you're new to data visualization, [this guide](http://pubs.aeaweb.org/doi/pdfplus/10.1257/jep.28.1.209) is a good place to start."
   ]
  },
  {
   "cell_type": "code",
   "execution_count": 8,
   "metadata": {
    "collapsed": false
   },
   "outputs": [],
   "source": [
    "#PLOT 1\n",
    "corr_values_df = boston_df.corr()[\"MEDV\"]"
   ]
  },
  {
   "cell_type": "code",
   "execution_count": 12,
   "metadata": {
    "collapsed": false,
    "scrolled": true
   },
   "outputs": [
    {
     "data": {
      "text/plain": [
       "<matplotlib.text.Text at 0x7f3e91ec7290>"
      ]
     },
     "execution_count": 12,
     "metadata": {},
     "output_type": "execute_result"
    },
    {
     "data": {
      "image/png": "[encoded data removed]",
      "text/plain": [
       "<matplotlib.figure.Figure at 0x7f3e921ba590>"
      ]
     },
     "metadata": {},
     "output_type": "display_data"
    }
   ],
   "source": [
    "corr_values_df.transpose().plot(kind = \"bar\", colormap=\"terrain\", figsize=(10,5), label=False)\n",
    "plt.xlabel(\"VARIABLE\")\n",
    "plt.ylabel(\"CORRELATION VALUE\")\n",
    "plt.title(\"PLOT 1 \\nCORRELATION VALUES OF ALL VARIABLES WITH MEDV\")"
   ]
  },
  {
   "cell_type": "markdown",
   "metadata": {},
   "source": [
    "* The plot gives the importance of each variable in the dataset. This has been calculated w.r.t the correlation values between the target \"MEDV\" and all other variables."
   ]
  },
  {
   "cell_type": "markdown",
   "metadata": {},
   "source": [
    "---\n",
    "\n",
    "## Part 2: Experimental Setup\n",
    "\n",
    "The goal of the next few sections is to design an experiment to predict the median home value for an instance in the data.\n",
    "\n",
    "### 2.1 Begin by writing a function to compute the Root Mean Squared Error for a list of numbers\n",
    "\n",
    "You can find the sqrt function in the Numpy package. Furthermore the details of RMSE can be found on [Wikipedia](http://en.wikipedia.org/wiki/Root-mean-square_deviation)\n",
    "\n"
   ]
  },
  {
   "cell_type": "code",
   "execution_count": 24,
   "metadata": {
    "collapsed": false
   },
   "outputs": [],
   "source": [
    "\"\"\"\n",
    "Function\n",
    "--------\n",
    "compute_rmse\n",
    "\n",
    "Given two arrays, one of actual values and one of predicted values,\n",
    "compute the Roote Mean Squared Error\n",
    "\n",
    "Parameters\n",
    "----------\n",
    "predictions : array\n",
    "    Array of numerical values corresponding to predictions for each of the N observations\n",
    "\n",
    "yvalues : array\n",
    "    Array of numerical values corresponding to the actual values for each of the N observations\n",
    "\n",
    "Returns\n",
    "-------\n",
    "rmse : int\n",
    "    Root Mean Squared Error of the prediction\n",
    "\n",
    "Example\n",
    "-------\n",
    ">>> print compute_rmse((2,2,3),(0,2,6))\n",
    "2.08\n",
    "\"\"\"\n",
    "def compute_rmse(prediction,yvalues):\n",
    "    if len(np.array(prediction))==len(np.array(yvalues)):\n",
    "        rmse = np.sqrt(np.mean((np.array(prediction)-np.array(yvalues))**2))\n",
    "    else:\n",
    "        print(\"array length not equal\")\n",
    "        return -1\n",
    "    return rmse   "
   ]
  },
  {
   "cell_type": "markdown",
   "metadata": {},
   "source": [
    "### 2.2 Divide your data into training and testing datasets\n",
    "\n",
    "Randomly select 66% of the data and put this in a training dataset (call this \"bdata_train\"), and place the remaining 34% in a testing dataset (call this \"bdata_test\")\n"
   ]
  },
  {
   "cell_type": "code",
   "execution_count": 25,
   "metadata": {
    "collapsed": false
   },
   "outputs": [],
   "source": [
    "# leave the following line untouched, \n",
    "#it will help ensure that your \"random\" split is the same \"random\" split used by the rest of the class\n",
    "np.random.seed(seed=13579)\n",
    "\n",
    "#dividing into test and train\n",
    "bdata_train = boston_df.sample(frac=0.66)\n",
    "bdata_test = boston_df.loc[~boston_df.index.isin(bdata_train.index)]"
   ]
  },
  {
   "cell_type": "code",
   "execution_count": 26,
   "metadata": {
    "collapsed": false
   },
   "outputs": [
    {
     "data": {
      "text/plain": [
       "0.6600790513833992"
      ]
     },
     "execution_count": 26,
     "metadata": {},
     "output_type": "execute_result"
    }
   ],
   "source": [
    "#checking % split\n",
    "len(bdata_train)/len(boston_df)"
   ]
  },
  {
   "cell_type": "code",
   "execution_count": 27,
   "metadata": {
    "collapsed": false
   },
   "outputs": [],
   "source": [
    "#reindexing, as the test-train split chooses random indices\n",
    "bdata_test.index = range(0,len(bdata_test))"
   ]
  },
  {
   "cell_type": "code",
   "execution_count": 28,
   "metadata": {
    "collapsed": true
   },
   "outputs": [],
   "source": [
    "#reindexing, as the test-train split chooses random indices\n",
    "bdata_train.index = range(0,len(bdata_train))"
   ]
  },
  {
   "cell_type": "markdown",
   "metadata": {},
   "source": [
    "### 2.3 Use a very bad baseline for prediction, and compute RMSE\n",
    "\n",
    "Create a model that predicts, for every observation x_i, that the median home value is the average (mean) of the median values for all instances in the training set.  Compute the RMSE on the training set.  Now compute the RMSE on the test data set (but use the model you trained on the training set!).  How does RMSE compare for training vs. testing datasets? Is this what you expected, and why?"
   ]
  },
  {
   "cell_type": "code",
   "execution_count": 29,
   "metadata": {
    "collapsed": false
   },
   "outputs": [
    {
     "data": {
      "text/plain": [
       "22.546407185628734"
      ]
     },
     "execution_count": 29,
     "metadata": {},
     "output_type": "execute_result"
    }
   ],
   "source": [
    "#checking mean of median value for training set\n",
    "bdata_train[\"MEDV\"].mean()"
   ]
  },
  {
   "cell_type": "code",
   "execution_count": 30,
   "metadata": {
    "collapsed": true
   },
   "outputs": [],
   "source": [
    "\"\"\"\n",
    "Function\n",
    "--------\n",
    "bad_model\n",
    "\n",
    "Given a dataframe, fit a model with a bad baseline (mean of the median value)\n",
    "\n",
    "Parameters\n",
    "----------\n",
    "predictions : df\n",
    "    a dataframe on which the model needs to be fitted\n",
    "\n",
    "Returns\n",
    "-------\n",
    "bad_pred : list\n",
    "    a list containing predictions pertaining to a bad model\n",
    "    \n",
    "\"\"\"\n",
    "def bad_model(df):\n",
    "    bad_pred=[]\n",
    "    len1 = len(df)\n",
    "    for i in range(0,len1):\n",
    "        bad_pred.append(bdata_train[\"MEDV\"].mean())\n",
    "    \n",
    "    return bad_pred"
   ]
  },
  {
   "cell_type": "code",
   "execution_count": 31,
   "metadata": {
    "collapsed": false
   },
   "outputs": [
    {
     "name": "stdout",
     "output_type": "stream",
     "text": [
      "RMSE for the training set:\n",
      "9.4276333999\n",
      "RMSE for the test set:\n",
      "8.70390794615\n"
     ]
    }
   ],
   "source": [
    "print \"RMSE for the training set:\"\n",
    "print compute_rmse(bad_model(bdata_train),bdata_train.MEDV)\n",
    "\n",
    "\n",
    "print \"RMSE for the test set:\"\n",
    "print compute_rmse(bad_model(bdata_test),bdata_test.MEDV)"
   ]
  },
  {
   "cell_type": "markdown",
   "metadata": {},
   "source": [
    "* The RMSE for the test set comes out to be greater than that of the training set. \n",
    "* I did not expect one value to be greater than the other. This is because we have a fixed model and then the observations in the train & test set have been randomly allocated. The RMSE is calculated on MEDV values which have been selected at random. So it is difficult to expect a certain type of result."
   ]
  },
  {
   "cell_type": "markdown",
   "metadata": {},
   "source": [
    "---\n",
    "\n",
    "## Part 3: Nearest Neighbors\n"
   ]
  },
  {
   "cell_type": "markdown",
   "metadata": {},
   "source": [
    "### 3.1 Nearest Neighbors: Distance function\n",
    "Let's try and build a machine learning algorithm to beat the \"Average Value\" baseline that you computed above.  Soon you will implement the Nearest Neighbor algorithm, but first you need to create a distance metric to measure the distance (and similarity) between two instances.  Write a generic function to compute the L-Norm distance (called the [*p*-norm](http://en.wikipedia.org/wiki/Norm_(mathematics) distance on Wikipedia). Verify that your function works by computing the Euclidean distance between the points (3,4) and (6,8)."
   ]
  },
  {
   "cell_type": "code",
   "execution_count": 32,
   "metadata": {
    "collapsed": false
   },
   "outputs": [],
   "source": [
    "\"\"\"\n",
    "Function\n",
    "--------\n",
    "distance\n",
    "\n",
    "Given two instances and a value for L, return the L-Norm distance between them\n",
    "\n",
    "Parameters\n",
    "----------\n",
    "x1, x2 : array\n",
    "    Array of numerical values\n",
    "\n",
    "L: int\n",
    "    Value of L to use in computing distances\n",
    "\n",
    "Returns\n",
    "-------\n",
    "dist : int\n",
    "    The L-norm distance between instances\n",
    "\n",
    "Example\n",
    "-------\n",
    ">>> print distance((3,4),(6,8),2)\n",
    "7\n",
    "\n",
    "\"\"\"\n",
    "def distance(x1, x2, L):\n",
    "    #converting x1, x2 into array & calculating L-norm distance\n",
    "    d = abs(np.sum((np.array(x1)-np.array(x2))**L))**(1/L)\n",
    "\n",
    "    return d"
   ]
  },
  {
   "cell_type": "code",
   "execution_count": 33,
   "metadata": {
    "collapsed": false
   },
   "outputs": [
    {
     "data": {
      "text/plain": [
       "5.0"
      ]
     },
     "execution_count": 33,
     "metadata": {},
     "output_type": "execute_result"
    }
   ],
   "source": [
    "#checking the distance function\n",
    "distance((3,4),(6,8),2)"
   ]
  },
  {
   "cell_type": "markdown",
   "metadata": {},
   "source": [
    "### 3.2 Basic Nearest Neighbor algorithm\n",
    "\n",
    "Now things get fun.  Your task is to implement a basic nearest neighbor algorithm from scratch.  Your simple model will use two input features (CRIM and RM) and a single output (MEDV).  In other words, you are modelling the relationship between median home value and crime rates and house size.\n",
    "\n",
    "Use your training data (bdata_train) to \"fit\" your model, although as you know, with Nearest Neighbors there is no real training, you just need to keep your training data in memory.  Write a function that predicts, for each instance in the testing data (bdata_test), the median home value using the nearest neighbor algorithm we discussed in class.  Since this is a small dataset, you can simply compare your test instance to every instance in the training set, and return the MEDV value of the closest training instance.  Have your function take L as an input, where L is passed to the distance function.\n",
    "\n",
    "Compute the RMSE for the Nearest Neighbor predictions on the test set, using the Euclidean distance.  Report an estimate of the total time taken by your code to predict the nearest neighbors for all the values in the test data set."
   ]
  },
  {
   "cell_type": "code",
   "execution_count": 34,
   "metadata": {
    "collapsed": false
   },
   "outputs": [],
   "source": [
    "\"\"\"\n",
    "Function\n",
    "--------\n",
    "nneighbour\n",
    "\n",
    "Given a test instances, a training set and a value for L, return the nearest neighbour, \n",
    "the input variables for distance function i.e. CRIM & RM have been hard coded\n",
    "\n",
    "Parameters\n",
    "----------\n",
    "testinstance, train : dataframes\n",
    "    dataframes that comprise of test and train model\n",
    "\n",
    "L: int\n",
    "    Value of L to use in computing distances\n",
    "\n",
    "Returns\n",
    "-------\n",
    "train[\"MEDV][id] : int\n",
    "    The value for MEDV for the nearest neighbour\n",
    "\n",
    "\"\"\"\n",
    "\n",
    "def nneighbor(testinstance, train, L): #testinstance : a single instance of test set, train:entire training set\n",
    "    #declaring an empty array to store distance values\n",
    "    z = []\n",
    "    for j in range(0, len(train)):\n",
    "        z.append(distance((testinstance[\"RM\"], testinstance[\"CRIM\"]),\n",
    "                 (train[\"RM\"][j], train[\"CRIM\"][j]),\n",
    "                 L))\n",
    "        \n",
    "    min_dist = min(z) #getting the least distance\n",
    "    id = z.index(min_dist) #getting the index of the least distance\n",
    "\n",
    "    return train[\"MEDV\"][id] #return the nearest MEDV value from the training set"
   ]
  },
  {
   "cell_type": "code",
   "execution_count": 35,
   "metadata": {
    "collapsed": false
   },
   "outputs": [
    {
     "name": "stdout",
     "output_type": "stream",
     "text": [
      "Time taken to execute nneighbours: 3.54 seconds\n",
      "RMSE Value between training and test set: 6.98320660002\n"
     ]
    }
   ],
   "source": [
    "start_time = time.time()\n",
    "\n",
    "pred_val = []\n",
    "for i in range(len(bdata_test)): \n",
    "   pred_val.append(nneighbor(bdata_test.loc[i],bdata_train,2))\n",
    "\n",
    "print \"Time taken to execute nneighbours: \" + str(round(time.time() - start_time,2)) + \" seconds\"\n",
    "print (\"RMSE Value between training and test set: %s\" %compute_rmse(pred_val,bdata_test[\"MEDV\"]))"
   ]
  },
  {
   "cell_type": "markdown",
   "metadata": {},
   "source": [
    "### 3.3 Results and Normalization\n",
    "\n",
    "If you were being astute, you would have noticed that we never normalized our features -- a big no-no with Nearest Neighbor algorithms.  Write a generic normalization function that takes as input an array of values for a given feature, and returns the normalized array (subtract the mean and divide by the standard deviation).\n",
    "\n",
    "Re-run the Nearest Neighbor algorithm on the normalized dataset (still just using CRIM and RM as input), and compare the RMSE from this method with your previous RMSE evaluations.\n",
    "\n",
    "*NOTE*: To normalize properly, best practice is to compute the mean and standard deviation on the training set, and use these values to normalize the testing dataset. However, for this problem set, it is okay if you separately normalize each dataset using the respective mean and standard deviation."
   ]
  },
  {
   "cell_type": "code",
   "execution_count": 36,
   "metadata": {
    "collapsed": true
   },
   "outputs": [],
   "source": [
    "\"\"\"\n",
    "Function\n",
    "--------\n",
    "normalize\n",
    "\n",
    "Given an array x1, return the normalized array\n",
    "\n",
    "Parameters\n",
    "----------\n",
    "x1 : array\n",
    "    Array of numerical values\n",
    "\n",
    "\n",
    "Returns\n",
    "-------\n",
    "normalized x1: array\n",
    "    Array with normalized values\n",
    "\n",
    "\"\"\"\n",
    "def normalize(x1):\n",
    "    x1=np.array(x1) # converting into array\n",
    "    for i in range(len(x1)):\n",
    "        x1[i]=(x1[i]-x1.mean())/(np.std(x1)) #normalizing\n",
    "    return x1"
   ]
  },
  {
   "cell_type": "code",
   "execution_count": 37,
   "metadata": {
    "collapsed": false
   },
   "outputs": [
    {
     "name": "stderr",
     "output_type": "stream",
     "text": [
      "/home/aamir/anaconda2/lib/python2.7/site-packages/pandas/core/generic.py:2701: SettingWithCopyWarning: \n",
      "A value is trying to be set on a copy of a slice from a DataFrame.\n",
      "Try using .loc[row_indexer,col_indexer] = value instead\n",
      "\n",
      "See the caveats in the documentation: http://pandas.pydata.org/pandas-docs/stable/indexing.html#indexing-view-versus-copy\n",
      "  self[name] = value\n"
     ]
    }
   ],
   "source": [
    "#Separately Normalizing the features CRIM & RM for train and test set\n",
    "#Replacing the original values in the dataframe with the normalized values, as feature normalization is a good practice\n",
    "bdata_test.RM = normalize(bdata_test.RM)\n",
    "bdata_test.CRIM = normalize(bdata_test.CRIM)\n",
    "bdata_train.RM = normalize(bdata_train.RM)\n",
    "bdata_train.CRIM = normalize(bdata_train.CRIM)"
   ]
  },
  {
   "cell_type": "code",
   "execution_count": 38,
   "metadata": {
    "collapsed": false
   },
   "outputs": [
    {
     "name": "stdout",
     "output_type": "stream",
     "text": [
      "Time taken to execute nneighbours for normalized feature values: 3.7 seconds\n",
      "RMSE Value between training and test set for normalized feature values: 10.9495407146\n"
     ]
    }
   ],
   "source": [
    "start_time = time.time()\n",
    "\n",
    "pred_val = []\n",
    "for i in range(len(bdata_test)): \n",
    "   pred_val.append(nneighbor(bdata_test.loc[i],bdata_train,2))\n",
    "\n",
    "print \"Time taken to execute nneighbours for normalized feature values: \" + str(round(time.time() - start_time,2)) + \" seconds\"\n",
    "print (\"RMSE Value between training and test set for normalized feature values: %s\" %compute_rmse(pred_val,bdata_test[\"MEDV\"]))"
   ]
  },
  {
   "cell_type": "markdown",
   "metadata": {},
   "source": [
    "* The RMSE before normalization is lesser than the RMSE value obtained after normalization.\n",
    "* In the first run, the values before and after normalization came out to be 7.08 & 10.66."
   ]
  },
  {
   "cell_type": "markdown",
   "metadata": {},
   "source": [
    "### 3.4 Optimization\n",
    "\n",
    "A lot of the decisions we've made so far have been arbitrary.  Try to increase the performance of your nearest neighbor algorithm by adding features that you think might be relevant, and by using different values of L in the distance function.  Try a model that uses a different set of 2 features, then try at least one model that uses more than 4 features, then try using a different value of L.  If you're having fun, try a few different combinations of features and L!\n",
    "\n",
    "What combination of features and distance function provide the lowest RMSE?  Do your decisions affect the running time of the algorithm?"
   ]
  },
  {
   "cell_type": "code",
   "execution_count": 39,
   "metadata": {
    "collapsed": true
   },
   "outputs": [],
   "source": [
    "#Separately Normalizing the features AGE & TAX for train and test set\n",
    "#Replacing the original values in the dataframe with the normalized values, as feature normalization is a good practice\n",
    "bdata_test.AGE = normalize(bdata_test.AGE)\n",
    "bdata_test.TAX = normalize(bdata_test.TAX)\n",
    "bdata_train.AGE = normalize(bdata_train.AGE)\n",
    "bdata_train.TAX = normalize(bdata_train.TAX)"
   ]
  },
  {
   "cell_type": "code",
   "execution_count": 40,
   "metadata": {
    "collapsed": false
   },
   "outputs": [],
   "source": [
    "\"\"\"\n",
    "Function\n",
    "--------\n",
    "nneighbour2\n",
    "\n",
    "Given a test instances, a training set and a value for L, return the nearest neighbour, \n",
    "the input variables for distance function i.e. AGE & TAX have been hard coded\n",
    "\n",
    "Parameters\n",
    "----------\n",
    "testinstance, train : dataframes\n",
    "    dataframes that comprise of test and train model\n",
    "\n",
    "L: int\n",
    "    Value of L to use in computing distances\n",
    "\n",
    "Returns\n",
    "-------\n",
    "train[\"MEDV][id] : int\n",
    "    The value for MEDV for the nearest neighbour\n",
    "\n",
    "\"\"\"\n",
    "\n",
    "#new Nneighbour for 2 variables\n",
    "def nneighbor2(testinstance, train, L): #testinstance : a single instance of test set, train:entire training set\n",
    "    #declaring an empty array to store distance values\n",
    "    z = []\n",
    "    for j in range(0, len(train)):\n",
    "        z.append(distance((testinstance[\"AGE\"], testinstance[\"TAX\"]),\n",
    "                 (train[\"AGE\"][j], train[\"TAX\"][j]),\n",
    "                 L))\n",
    "        \n",
    "    min_dist = min(z) #getting the least distance\n",
    "    id = z.index(min_dist) #getting the index of the least distance\n",
    "\n",
    "    return train[\"MEDV\"][id] #return the nearest MEDV value from the training set"
   ]
  },
  {
   "cell_type": "code",
   "execution_count": 41,
   "metadata": {
    "collapsed": false
   },
   "outputs": [
    {
     "name": "stdout",
     "output_type": "stream",
     "text": [
      "Time taken to execute nneighbours for AGE & TAX for L = 2: 3.55 seconds\n",
      "RMSE Value between training and test set for AGE & TAX as features and L = 2: 11.7480107173\n"
     ]
    }
   ],
   "source": [
    "start_time = time.time()\n",
    "\n",
    "pred_val = []\n",
    "for i in range(len(bdata_test)): \n",
    "   pred_val.append(nneighbor2(bdata_test.loc[i],bdata_train,2))\n",
    "\n",
    "print \"Time taken to execute nneighbours for AGE & TAX for L = 2: \" + str(round(time.time() - start_time,2)) + \" seconds\"\n",
    "print (\"RMSE Value between training and test set for AGE & TAX as features and L = 2: %s\" %compute_rmse(pred_val,bdata_test[\"MEDV\"]))"
   ]
  },
  {
   "cell_type": "code",
   "execution_count": 42,
   "metadata": {
    "collapsed": false
   },
   "outputs": [
    {
     "name": "stdout",
     "output_type": "stream",
     "text": [
      "Time taken to execute nneighbours for AGE & TAX for L = 3: 3.74 seconds\n",
      "RMSE Value between training and test set for AGE & TAX as features and L = 3: 10.8322301168\n"
     ]
    }
   ],
   "source": [
    "start_time = time.time()\n",
    "\n",
    "pred_val = []\n",
    "for i in range(len(bdata_test)): \n",
    "   pred_val.append(nneighbor2(bdata_test.loc[i],bdata_train,3))\n",
    "\n",
    "print \"Time taken to execute nneighbours for AGE & TAX for L = 3: \" + str(round(time.time() - start_time,2)) + \" seconds\"\n",
    "print (\"RMSE Value between training and test set for AGE & TAX as features and L = 3: %s\" %compute_rmse(pred_val,bdata_test[\"MEDV\"]))"
   ]
  },
  {
   "cell_type": "code",
   "execution_count": 43,
   "metadata": {
    "collapsed": false
   },
   "outputs": [
    {
     "name": "stdout",
     "output_type": "stream",
     "text": [
      "Time taken to execute nneighbours for AGE & TAX for L = 4: 3.73 seconds\n",
      "RMSE Value between training and test set for AGE & TAX as features and L = 4: 11.5195687904\n"
     ]
    }
   ],
   "source": [
    "start_time = time.time()\n",
    "\n",
    "pred_val = []\n",
    "for i in range(len(bdata_test)): \n",
    "   pred_val.append(nneighbor2(bdata_test.loc[i],bdata_train,4))\n",
    "\n",
    "print \"Time taken to execute nneighbours for AGE & TAX for L = 4: \" + str(round(time.time() - start_time,2)) + \" seconds\"\n",
    "print (\"RMSE Value between training and test set for AGE & TAX as features and L = 4: %s\" %compute_rmse(pred_val,bdata_test[\"MEDV\"]))"
   ]
  },
  {
   "cell_type": "code",
   "execution_count": 44,
   "metadata": {
    "collapsed": true
   },
   "outputs": [],
   "source": [
    "#Separately Normalizing the features LSTAT & INDUS for train and test set\n",
    "#Replacing the original values in the dataframe with the normalized values, as feature normalization is a good practice\n",
    "bdata_test.LSTAT = normalize(bdata_test.LSTAT)\n",
    "bdata_test.INDUS = normalize(bdata_test.INDUS)\n",
    "bdata_train.LSTAT = normalize(bdata_train.LSTAT)\n",
    "bdata_train.INDUS = normalize(bdata_train.INDUS)"
   ]
  },
  {
   "cell_type": "code",
   "execution_count": 45,
   "metadata": {
    "collapsed": true
   },
   "outputs": [],
   "source": [
    "\"\"\"\n",
    "Function\n",
    "--------\n",
    "nneighbour4\n",
    "\n",
    "Given a test instances, a training set and a value for L, return the nearest neighbour, \n",
    "the input variables for distance function i.e. RM, CRIM, LSTAT & INDUS have been hard coded\n",
    "\n",
    "Parameters\n",
    "----------\n",
    "testinstance, train : dataframes\n",
    "    dataframes that comprise of test and train model\n",
    "\n",
    "L: int\n",
    "    Value of L to use in computing distances\n",
    "\n",
    "Returns\n",
    "-------\n",
    "train[\"MEDV][id] : int\n",
    "    The value for MEDV for the nearest neighbour\n",
    "\n",
    "\"\"\"\n",
    "def nneighbor4(testinstance, train, L):\n",
    "    \n",
    "    z = []\n",
    "    for j in range(0, len(train)):\n",
    "        z.append(distance((testinstance[\"RM\"], testinstance[\"CRIM\"], testinstance[\"LSTAT\"],testinstance[\"INDUS\"]),\n",
    "                 (train[\"RM\"][j], train[\"CRIM\"][j], train[\"LSTAT\"][j], train[\"INDUS\"][j]),\n",
    "                 L))\n",
    "        \n",
    "    min_dist = min(z)\n",
    "    id = z.index(min_dist)\n",
    "\n",
    "    return train[\"MEDV\"][id]"
   ]
  },
  {
   "cell_type": "code",
   "execution_count": 46,
   "metadata": {
    "collapsed": false
   },
   "outputs": [
    {
     "name": "stdout",
     "output_type": "stream",
     "text": [
      "Time taken to execute nneighbours for RM, CRIM, LSTAT & INDUS for L = 2: 6.24 seconds\n",
      "RMSE Value between training and test set for RM, CRIM, LSTAT & INDUS as features and L = 2: 6.78873468362\n"
     ]
    }
   ],
   "source": [
    "start_time = time.time()\n",
    "\n",
    "pred_val = []\n",
    "for i in range(len(bdata_test)): \n",
    "   pred_val.append(nneighbor4(bdata_test.loc[i],bdata_train,2))\n",
    "\n",
    "print \"Time taken to execute nneighbours for RM, CRIM, LSTAT & INDUS for L = 2: \" + str(round(time.time() - start_time,2)) + \" seconds\"\n",
    "print (\"RMSE Value between training and test set for RM, CRIM, LSTAT & INDUS as features and L = 2: %s\" %compute_rmse(pred_val,bdata_test[\"MEDV\"]))"
   ]
  },
  {
   "cell_type": "code",
   "execution_count": 47,
   "metadata": {
    "collapsed": false
   },
   "outputs": [
    {
     "name": "stdout",
     "output_type": "stream",
     "text": [
      "Time taken to execute nneighbours for RM, CRIM, LSTAT & INDUS for L = 3: 7.82 seconds\n",
      "RMSE Value between training and test set for RM, CRIM, LSTAT & INDUS as features and L = 3: 8.29489546032\n"
     ]
    }
   ],
   "source": [
    "start_time = time.time()\n",
    "\n",
    "pred_val = []\n",
    "for i in range(len(bdata_test)): \n",
    "   pred_val.append(nneighbor4(bdata_test.loc[i],bdata_train,3))\n",
    "\n",
    "print \"Time taken to execute nneighbours for RM, CRIM, LSTAT & INDUS for L = 3: \" + str(round(time.time() - start_time,2)) + \" seconds\"\n",
    "print (\"RMSE Value between training and test set for RM, CRIM, LSTAT & INDUS as features and L = 3: %s\" %compute_rmse(pred_val,bdata_test[\"MEDV\"]))"
   ]
  },
  {
   "cell_type": "code",
   "execution_count": 48,
   "metadata": {
    "collapsed": false,
    "scrolled": true
   },
   "outputs": [
    {
     "name": "stdout",
     "output_type": "stream",
     "text": [
      "Time taken to execute nneighbours for RM, CRIM, LSTAT & INDUS for L = 4: 7.86 seconds\n",
      "RMSE Value between training and test set for RM, CRIM, LSTAT & INDUS as features and L = 4: 6.89784681605\n"
     ]
    }
   ],
   "source": [
    "start_time = time.time()\n",
    "\n",
    "pred_val = []\n",
    "for i in range(len(bdata_test)): \n",
    "   pred_val.append(nneighbor4(bdata_test.loc[i],bdata_train,4))\n",
    "\n",
    "print \"Time taken to execute nneighbours for RM, CRIM, LSTAT & INDUS for L = 4: \" + str(round(time.time() - start_time,2)) + \" seconds\"\n",
    "print (\"RMSE Value between training and test set for RM, CRIM, LSTAT & INDUS as features and L = 4: %s\" %compute_rmse(pred_val,bdata_test[\"MEDV\"]))"
   ]
  },
  {
   "cell_type": "markdown",
   "metadata": {},
   "source": [
    "* Observations for model with 2 features(AGE & TAX) -\n",
    "    * RMSE for L = 2 is 11.05 and time taken = 2.32\n",
    "    * RMSE for L = 3 is 11.55 and time taken = 2.55\n",
    "    * RMSE for L = 4 is 10.88 and time taken = 2.39"
   ]
  },
  {
   "cell_type": "markdown",
   "metadata": {},
   "source": [
    "* Observations for model with 4 features(RM, CRIM, LSTAT & INDUS) -\n",
    "    * RMSE for L = 2 is 6.58 and time taken = 3.93\n",
    "    * RMSE for L = 3 is 7.44 and time taken = 4.10\n",
    "    * RMSE for L = 4 is 6.88 and time taken = 4.08"
   ]
  },
  {
   "cell_type": "markdown",
   "metadata": {},
   "source": [
    "* The RMSE value is lowest for L = 4 in 2 feature model and for L = 2 in 4 feature model. The running time is lowest for L = 2 in both models.\n",
    "\n",
    "* Changing the value of L does affect the running time. It is lowest for L = 2 i.e. eudlidean distance calculation."
   ]
  },
  {
   "cell_type": "markdown",
   "metadata": {},
   "source": [
    "### 3.5 Cross-Validation\n",
    "\n",
    "The more you tinkered with your features and distance function, the higher the risk that you overfit your training data.  To prevent this sort of overfitting, you need to use cross-validation (see K-fold [cross-validation](http://en.wikipedia.org/wiki/Cross-validation_(statistics)).  Here you must implement a simple k-fold cross-validation algorithm yourself.  The function you write here will be used several more times in this problem set, so do your best to write efficient code! (Note that the sklearn package has a built-in [K-fold](http://scikit-learn.org/stable/modules/cross_validation.html#cross-validation) iterator -- you should *not* be invoking that or any related algorithms in this section of the problem set.)\n",
    "\n",
    "Use 10-fold cross-validation and report the average RMSE for Nearest Neighbors using Euclidean distance with CRIM and RM input features, as well as the total running time for the full run of 10 folds.  In other words, randomly divide your dataset into 10 equally-sized samples, and for each of 10 iterations (the \"folds\"), use 9 samples as \"training data\" (even though there is no training in k-NN!), and the remaining 1 sample for testing.  Compute the RMSE of that particular test set, then move on to the next iteration.  Report the average RMSE across the 10 iterations."
   ]
  },
  {
   "cell_type": "code",
   "execution_count": 49,
   "metadata": {
    "collapsed": false
   },
   "outputs": [],
   "source": [
    "# Resampling the entire dataset again\n",
    "resample_boston_df = boston_df.sample(frac = 1)\n",
    "\n",
    "#dividing the dataset into 10 parts (10 FOLD CROSS VALIDATION) \n",
    "sample_df = np.array_split(resample_boston_df, 10)"
   ]
  },
  {
   "cell_type": "code",
   "execution_count": 50,
   "metadata": {
    "collapsed": false
   },
   "outputs": [],
   "source": [
    "\"\"\"\n",
    "Function\n",
    "--------\n",
    "crossvalidate\n",
    "\n",
    "Given a dataframe, return the test & training sets \n",
    "\n",
    "Parameters\n",
    "----------\n",
    "df : dataframes\n",
    "    dataframes that needs to be segregated into test and train\n",
    "\n",
    "Returns\n",
    "-------\n",
    "train, test : list\n",
    "    2 Lists for test and train, each containing equal number of test and train dataframes\n",
    "\n",
    "\"\"\"\n",
    "#declaring global arrays to store test and train data\n",
    "test = []\n",
    "train = []\n",
    "\n",
    "#defining the function \n",
    "def crossvalidate(df):\n",
    "    for k in range(len(df)):\n",
    "        test.append(df[k]) #taking the kth subset into test\n",
    "        train.append(df[:k] + df[(k+1):]) #taking everything apart from k into train\n",
    "    for j in range(len(train)):\n",
    "        train[j] = pd.DataFrame(pd.concat(train[j]))   #combining the train sets"
   ]
  },
  {
   "cell_type": "code",
   "execution_count": 51,
   "metadata": {
    "collapsed": false
   },
   "outputs": [],
   "source": [
    "crossvalidate(sample_df)"
   ]
  },
  {
   "cell_type": "code",
   "execution_count": 52,
   "metadata": {
    "collapsed": false
   },
   "outputs": [],
   "source": [
    "#reindexing the test and train portions -\n",
    "for i in range(len(test)):\n",
    "    test[i].index = range(0,len(test[i]))\n",
    "    train[i].index = range(0,len(train[i]))"
   ]
  },
  {
   "cell_type": "code",
   "execution_count": 53,
   "metadata": {
    "collapsed": false
   },
   "outputs": [
    {
     "name": "stdout",
     "output_type": "stream",
     "text": [
      "Iteration : 0\n",
      "RMSE for this iteration : 6.05047397268\n",
      "Time taken for this iteration : 0.05 seconds\n",
      "\n",
      "\n",
      "Iteration : 1\n",
      "RMSE for this iteration : 7.27619001789\n",
      "Time taken for this iteration : 0.03 seconds\n",
      "\n",
      "\n",
      "Iteration : 2\n",
      "RMSE for this iteration : 9.44834252505\n",
      "Time taken for this iteration : 0.05 seconds\n",
      "\n",
      "\n",
      "Iteration : 3\n",
      "RMSE for this iteration : 6.30023342238\n",
      "Time taken for this iteration : 0.05 seconds\n",
      "\n",
      "\n",
      "Iteration : 4\n",
      "RMSE for this iteration : 7.03691944633\n",
      "Time taken for this iteration : 0.03 seconds\n",
      "\n",
      "\n",
      "Iteration : 5\n",
      "RMSE for this iteration : 6.01191627145\n",
      "Time taken for this iteration : 0.04 seconds\n",
      "\n",
      "\n",
      "Iteration : 6\n",
      "RMSE for this iteration : 5.59000894454\n",
      "Time taken for this iteration : 0.03 seconds\n",
      "\n",
      "\n",
      "Iteration : 7\n",
      "RMSE for this iteration : 9.04205728803\n",
      "Time taken for this iteration : 0.04 seconds\n",
      "\n",
      "\n",
      "Iteration : 8\n",
      "RMSE for this iteration : 7.77745459646\n",
      "Time taken for this iteration : 0.03 seconds\n",
      "\n",
      "\n",
      "Iteration : 9\n",
      "RMSE for this iteration : 5.4447038487\n",
      "Time taken for this iteration : 0.04 seconds\n",
      "\n",
      "\n",
      "\n",
      "\n",
      "Average RMSE : 6.99783003335\n",
      "Total Time taken: 19.02 seconds\n"
     ]
    }
   ],
   "source": [
    "start = time.time()\n",
    "total_rmse = 0\n",
    "for j in range(len(test)): #selecting the jth test set\n",
    "    predict = [] #declaring an empty list to store prediction values\n",
    "    print \"Iteration : %s\" %j\n",
    "    for i in range(len(test[j])): #selecting the observations from the jth subset\n",
    "        start_time = time.time()\n",
    "        predict.append(nneighbor(test[j].loc[i],train[j],2))\n",
    "        \n",
    "        \n",
    "       \n",
    "    print \"RMSE for this iteration : %s\" %compute_rmse(predict,test[j].MEDV)\n",
    "    print \"Time taken for this iteration : \" + str(round(time.time() - start_time,2)) + \" seconds\"\n",
    "    print \"\\n\"\n",
    "    total_rmse += compute_rmse(predict,test[j].MEDV)\n",
    "    predict = []\n",
    "\n",
    "print \"\\n\"    \n",
    "print \"Average RMSE : %s\" %(total_rmse/10)\n",
    "print \"Total Time taken: \" + str(round(time.time() - start,2)) + \" seconds\""
   ]
  },
  {
   "cell_type": "markdown",
   "metadata": {},
   "source": [
    "### 3.6 K-Nearest Neighbors Algorithm\n",
    "\n",
    "Implement the K-Nearest Neighbors algorithm.  Using 10-fold cross validation, report the RMSE for K=3 and the running time of the algorithm."
   ]
  },
  {
   "cell_type": "code",
   "execution_count": 54,
   "metadata": {
    "collapsed": true
   },
   "outputs": [],
   "source": [
    "\"\"\"\n",
    "Function\n",
    "--------\n",
    "knn\n",
    "\n",
    "Given a test instances, a training set, a value for L and a value for K, return the  K nearest neighbour, \n",
    "the input variables for distance function i.e. RM & CRIM have been hard coded\n",
    "\n",
    "Parameters\n",
    "----------\n",
    "testinstance, train : dataframes\n",
    "    dataframes that comprise of test and train model\n",
    "\n",
    "L: int\n",
    "    Value of L to use in computing distances\n",
    "    \n",
    "K: int\n",
    "    no. of desired nearest neighbours\n",
    "\n",
    "Returns\n",
    "-------\n",
    "The average MEDV value for the K nearest neighbours\n",
    "\n",
    "\"\"\"\n",
    "\n",
    "import time\n",
    "def knn(testinstance, train, L, K):\n",
    "    \n",
    "    z = [] #declaring an empty array to store minimum distances\n",
    "    for j in range(0, len(train)):\n",
    "        z.append(distance((testinstance[\"RM\"], testinstance[\"CRIM\"]),\n",
    "                 (train[\"RM\"][j], train[\"CRIM\"][j]),\n",
    "                 L))\n",
    "    \n",
    "    z_sorted=z[:] #creating a copy of the distance array\n",
    "    z_sorted=sorted(z_sorted) #sorting the copied array\n",
    "    \n",
    "    a = [] #declaring an empty array to store distances of K neighbours\n",
    "    \n",
    "    for i in range(K):\n",
    "        a.append(z_sorted[i]) #appending the distances of the K nearest neighbours\n",
    "\n",
    "    index=[] #declaring an empty array to store indices of K neighbours\n",
    "    for j in range(len(a)):\n",
    "        index.append(z.index(a[j])) #appending the indices of the K nearest neighbours\n",
    "        \n",
    "    sum_val = 0\n",
    "    for h in range(len(index)):\n",
    "        sum_val += train[\"MEDV\"][h] #calculating the average medv values\n",
    "    \n",
    "    \n",
    "\n",
    "    return sum_val/K # returning the value vased on K nearest neighbours"
   ]
  },
  {
   "cell_type": "code",
   "execution_count": 55,
   "metadata": {
    "collapsed": false
   },
   "outputs": [
    {
     "name": "stdout",
     "output_type": "stream",
     "text": [
      "Total RMSE for K = 3 : 91.9744324713 \n",
      "Time taken: 18.05 seconds\n"
     ]
    }
   ],
   "source": [
    "start_time = time.time()\n",
    "total_rmse = 0\n",
    "for j in range(len(test)):\n",
    "    predict = []\n",
    "    for i in range(len(test[j])):\n",
    "       predict.append(knn(test[j].loc[i],train[j],2,3))\n",
    "    total_rmse += compute_rmse(predict,test[j].MEDV)\n",
    "    predict = []\n",
    "print \"Total RMSE for K = 3 : %s \" %total_rmse\n",
    "print \"Time taken: \" + str(round(time.time() - start_time,2)) + \" seconds\""
   ]
  },
  {
   "cell_type": "markdown",
   "metadata": {},
   "source": [
    "### 3.7 Using cross validation to find K\n",
    "\n",
    "What is the best choice of K?  Compute the RMSE for values of K between 1 and 25 using 10-fold cross-validation.  Use the following features in your model, and don't forget to normalize: CRIM, ZN, RM, AGE, DIS, TAX.  Create a graph that shows how RMSE changes as K increases from 1 to 25.  Label your axes, and summarize what you see.  What do you think is a reasonable choice of K for this model?"
   ]
  },
  {
   "cell_type": "code",
   "execution_count": 56,
   "metadata": {
    "collapsed": false
   },
   "outputs": [],
   "source": [
    "#Normalizing the feature values for test and train\n",
    "for i in range(len(test)):\n",
    "    test[i].ZN = normalize(test[i].ZN)\n",
    "    test[i].AGE = normalize(test[i].AGE)\n",
    "    test[i].DIS = normalize(test[i].DIS)\n",
    "    test[i].TAX = normalize(test[i].TAX)\n",
    "    test[i].CRIM = normalize(test[i].CRIM)\n",
    "    test[i].RM = normalize(test[i].RM)\n",
    " \n",
    "for j in range(len(train)):\n",
    "    train[j].ZN = normalize(train[j].ZN)\n",
    "    train[j].AGE = normalize(train[j].AGE)\n",
    "    train[j].DIS = normalize(train[j].DIS)\n",
    "    train[j].TAX = normalize(train[j].TAX)\n",
    "    train[j].CRIM = normalize(train[j].CRIM)\n",
    "    train[j].RM = normalize(train[j].RM)"
   ]
  },
  {
   "cell_type": "code",
   "execution_count": 57,
   "metadata": {
    "collapsed": true
   },
   "outputs": [],
   "source": [
    "\"\"\"\n",
    "Function\n",
    "--------\n",
    "knn2\n",
    "\n",
    "Given a test instances, a training set, a value for L and a value for K, return the  K nearest neighbour, \n",
    "the input variables for distance function i.e. RM, CRIM, AGE, DIS & TAX have been hard coded\n",
    "\n",
    "Parameters\n",
    "----------\n",
    "testinstance, train : dataframes\n",
    "    dataframes that comprise of test and train model\n",
    "\n",
    "L: int\n",
    "    Value of L to use in computing distances\n",
    "    \n",
    "K: int\n",
    "    no. of desired nearest neighbours\n",
    "\n",
    "Returns\n",
    "-------\n",
    "The average MEDV value for the K nearest neighbours\n",
    "\n",
    "\"\"\"\n",
    "def knn2(testinstance, train, L, K):\n",
    "    \n",
    "    z = [] #declaring an empty array to store minimum distances\n",
    "    for j in range(0, len(train)):\n",
    "        z.append(distance((testinstance[\"RM\"],testinstance[\"CRIM\"],\n",
    "                           testinstance[\"AGE\"], testinstance[\"DIS\"], testinstance[\"TAX\"]),\n",
    "                          (train[\"RM\"][j], train[\"CRIM\"][j],train[\"AGE\"][j], train[\"DIS\"][j],\n",
    "                           train[\"TAX\"][j]),L))\n",
    "    \n",
    "    z_sorted=z[:] #creating a copy of the distance array\n",
    "    z_sorted=sorted(z_sorted) #sorting the copied array\n",
    "    \n",
    "    a = [] #declaring an empty array to store distances of K neighbours\n",
    "    \n",
    "    for i in range(K):\n",
    "        a.append(z_sorted[i]) #appending the distances of the K nearest neighbours\n",
    "\n",
    "    index=[] #declaring an empty array to store indices of K neighbours\n",
    "    for j in range(len(a)):\n",
    "        index.append(z.index(a[j])) #appending the indices of the K nearest neighbours\n",
    "        \n",
    "    sum_val = 0\n",
    "    for h in range(len(index)):\n",
    "        sum_val += train[\"MEDV\"][h] #calculating the average medv values\n",
    "    \n",
    "    \n",
    "\n",
    "    return sum_val/K # returning the value vased on K nearest neighbours"
   ]
  },
  {
   "cell_type": "code",
   "execution_count": 58,
   "metadata": {
    "collapsed": true
   },
   "outputs": [],
   "source": [
    "\"\"\"\n",
    "Function\n",
    "--------\n",
    "total_rms\n",
    "\n",
    "Given a value of K, return the total rmse \n",
    "\n",
    "Parameters\n",
    "----------\n",
    "o : int\n",
    "    value of K i.e. no. of nearest neighbours\n",
    "\n",
    "Returns\n",
    "-------\n",
    "The total rms value for a given value of K\n",
    "\n",
    "\"\"\"\n",
    "def total_rms(o):\n",
    "    total_rmse=0\n",
    "    for j in range(len(test)):\n",
    "        predict = []\n",
    "        for i in range(len(test[j])):\n",
    "            predict.append(knn2(test[j].loc[i],train[j],1,o))\n",
    "        total_rmse += compute_rmse(predict,test[j].MEDV)\n",
    "        predict = []\n",
    "    return total_rmse"
   ]
  },
  {
   "cell_type": "code",
   "execution_count": 59,
   "metadata": {
    "collapsed": false
   },
   "outputs": [
    {
     "name": "stdout",
     "output_type": "stream",
     "text": [
      "Time taken: 12.1546666667 minutes\n"
     ]
    }
   ],
   "source": [
    "start_time = time.time()\n",
    "\n",
    "#declaring an empty list to store total rmse values corresponding to each K\n",
    "graph_values = []\n",
    "for o in range(1,26):\n",
    "    graph_values.append(total_rms(o))\n",
    "    \n",
    "print \"Time taken: \" + str(round(time.time() - start_time,2)/60) + \" minutes\""
   ]
  },
  {
   "cell_type": "code",
   "execution_count": 60,
   "metadata": {
    "collapsed": false
   },
   "outputs": [],
   "source": [
    "# arranging values of K from 1 to 25\n",
    "K_value = np.arange(1,26)\n",
    "\n",
    "#storing the RMSE values in a variable\n",
    "RMSE = graph_values\n",
    "\n",
    "#creating a dataframe\n",
    "rmse_df = pd.DataFrame({'K-Value':K_value, 'RMSE':RMSE})\n",
    "\n",
    "#reindexing\n",
    "rmse_df.set_index(K_value, inplace=True)"
   ]
  },
  {
   "cell_type": "code",
   "execution_count": 61,
   "metadata": {
    "collapsed": false,
    "scrolled": false
   },
   "outputs": [
    {
     "data": {
      "text/plain": [
       "<matplotlib.text.Text at 0x7f71983e40d0>"
      ]
     },
     "execution_count": 61,
     "metadata": {},
     "output_type": "execute_result"
    },
    {
     "data": {
      "image/png": "[encoded data removed]",
      "text/plain": [
       "<matplotlib.figure.Figure at 0x7f719846ab90>"
      ]
     },
     "metadata": {},
     "output_type": "display_data"
    }
   ],
   "source": [
    "# plotting K value vs total rmse\n",
    "rmse_df[\"RMSE\"].plot()\n",
    "plt.xlabel(\"Value of K\")\n",
    "plt.ylabel(\"RMSE\")\n",
    "plt.title(\"Value of K \\nvs \\nRMSE\")"
   ]
  },
  {
   "cell_type": "code",
   "execution_count": 62,
   "metadata": {
    "collapsed": false
   },
   "outputs": [
    {
     "data": {
      "text/plain": [
       "91.363285787484017"
      ]
     },
     "execution_count": 62,
     "metadata": {},
     "output_type": "execute_result"
    }
   ],
   "source": [
    "rmse_df.RMSE.min()"
   ]
  },
  {
   "cell_type": "markdown",
   "metadata": {},
   "source": [
    "* We can observe the following from the plot -\n",
    "    * The RMSE is shows a fluctuating trend for 1<K<7.\n",
    "    * As the value of K increases to 4, we can see an increase in the RMSE value\n",
    "    * As the value of K increases further, we can observe that the RMSE also increases until K = 7\n",
    "    * When K is between 7 and 13, the RMSE value shows a decreasing behavior\n",
    "    * For 13 < K < 25, the RMSE value tends to change very minutely. We can infer from the graph that the minimum RMSE occurs in this range.\n",
    "    * Upon Examining the actual values, we see that RMSE is lowest at K = 13 with a value of 91.39"
   ]
  }
 ],
 "metadata": {
  "anaconda-cloud": {},
  "kernelspec": {
   "display_name": "Python [default]",
   "language": "python",
   "name": "python2"
  },
  "language_info": {
   "codemirror_mode": {
    "name": "ipython",
    "version": 2
   },
   "file_extension": ".py",
   "mimetype": "text/x-python",
   "name": "python",
   "nbconvert_exporter": "python",
   "pygments_lexer": "ipython2",
   "version": "2.7.12"
  }
 },
 "nbformat": 4,
 "nbformat_minor": 0
}
